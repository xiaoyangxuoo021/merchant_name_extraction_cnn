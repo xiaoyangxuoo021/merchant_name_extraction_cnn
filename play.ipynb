{
 "cells": [
  {
   "cell_type": "code",
   "execution_count": 1,
   "metadata": {},
   "outputs": [],
   "source": [
    "import pandas as pd\n",
    "import numpy as np\n",
    "import argparse\n",
    "import csv\n",
    "import json\n",
    "import os\n",
    "import random\n",
    "import sys"
   ]
  },
  {
   "cell_type": "code",
   "execution_count": 2,
   "metadata": {},
   "outputs": [
    {
     "name": "stderr",
     "output_type": "stream",
     "text": [
      "C:\\Users\\XuYang\\AppData\\Roaming\\Python\\Python37\\site-packages\\IPython\\core\\interactiveshell.py:3524: DtypeWarning: Columns (1,7,9) have mixed types.Specify dtype option on import or set low_memory=False.\n",
      "  exec(code_obj, self.user_global_ns, self.user_ns)\n"
     ]
    },
    {
     "data": {
      "text/html": [
       "<div>\n",
       "<style scoped>\n",
       "    .dataframe tbody tr th:only-of-type {\n",
       "        vertical-align: middle;\n",
       "    }\n",
       "\n",
       "    .dataframe tbody tr th {\n",
       "        vertical-align: top;\n",
       "    }\n",
       "\n",
       "    .dataframe thead th {\n",
       "        text-align: right;\n",
       "    }\n",
       "</style>\n",
       "<table border=\"1\" class=\"dataframe\">\n",
       "  <thead>\n",
       "    <tr style=\"text-align: right;\">\n",
       "      <th></th>\n",
       "      <th>merchant_name</th>\n",
       "      <th>cleanName2</th>\n",
       "    </tr>\n",
       "  </thead>\n",
       "  <tbody>\n",
       "    <tr>\n",
       "      <th>0</th>\n",
       "      <td>0 04 amc creve coeur</td>\n",
       "      <td>amc</td>\n",
       "    </tr>\n",
       "    <tr>\n",
       "      <th>1</th>\n",
       "      <td>0 05 amc security sq</td>\n",
       "      <td>amc</td>\n",
       "    </tr>\n",
       "    <tr>\n",
       "      <th>2</th>\n",
       "      <td>0 1 forever</td>\n",
       "      <td>forever 21</td>\n",
       "    </tr>\n",
       "    <tr>\n",
       "      <th>3</th>\n",
       "      <td>0 2 forever</td>\n",
       "      <td>forever 21</td>\n",
       "    </tr>\n",
       "    <tr>\n",
       "      <th>4</th>\n",
       "      <td>0 3 amc grand island</td>\n",
       "      <td>amc</td>\n",
       "    </tr>\n",
       "    <tr>\n",
       "      <th>5</th>\n",
       "      <td>0 3 forever</td>\n",
       "      <td>forever 21</td>\n",
       "    </tr>\n",
       "    <tr>\n",
       "      <th>6</th>\n",
       "      <td>0 58 amc bar arlington</td>\n",
       "      <td>amc</td>\n",
       "    </tr>\n",
       "    <tr>\n",
       "      <th>7</th>\n",
       "      <td>0 6 forever</td>\n",
       "      <td>forever 21</td>\n",
       "    </tr>\n",
       "    <tr>\n",
       "      <th>8</th>\n",
       "      <td>0 9 amc northpark</td>\n",
       "      <td>amc</td>\n",
       "    </tr>\n",
       "    <tr>\n",
       "      <th>9</th>\n",
       "      <td>0 9 forever</td>\n",
       "      <td>forever 21</td>\n",
       "    </tr>\n",
       "    <tr>\n",
       "      <th>10</th>\n",
       "      <td>00 antojitos mexicanos</td>\n",
       "      <td>100 antojitos mexicano</td>\n",
       "    </tr>\n",
       "    <tr>\n",
       "      <th>11</th>\n",
       "      <td>0000 forever</td>\n",
       "      <td>forever 21</td>\n",
       "    </tr>\n",
       "    <tr>\n",
       "      <th>12</th>\n",
       "      <td>000000000alz001 allianz global assista visa di...</td>\n",
       "      <td>allianz</td>\n",
       "    </tr>\n",
       "    <tr>\n",
       "      <th>13</th>\n",
       "      <td>000000000mln001 instacash funds visa direct wius</td>\n",
       "      <td>visa</td>\n",
       "    </tr>\n",
       "    <tr>\n",
       "      <th>14</th>\n",
       "      <td>000000000wfb004 111052543 visa direct wius</td>\n",
       "      <td>visa</td>\n",
       "    </tr>\n",
       "    <tr>\n",
       "      <th>15</th>\n",
       "      <td>000000000wfb004 1556029042 visa direct wius</td>\n",
       "      <td>visa</td>\n",
       "    </tr>\n",
       "    <tr>\n",
       "      <th>16</th>\n",
       "      <td>000000000wfb004 1625003609 visa direct wius</td>\n",
       "      <td>visa</td>\n",
       "    </tr>\n",
       "    <tr>\n",
       "      <th>17</th>\n",
       "      <td>000000000wfb004 1631002032 visa direct wius</td>\n",
       "      <td>visa</td>\n",
       "    </tr>\n",
       "    <tr>\n",
       "      <th>18</th>\n",
       "      <td>000000000wfb004 1726031044 visa direct wius</td>\n",
       "      <td>visa</td>\n",
       "    </tr>\n",
       "    <tr>\n",
       "      <th>19</th>\n",
       "      <td>000000000wfb004 1926016328 visa direct wius</td>\n",
       "      <td>visa</td>\n",
       "    </tr>\n",
       "    <tr>\n",
       "      <th>20</th>\n",
       "      <td>000000000wfb004 2311001742 visa direct wius</td>\n",
       "      <td>visa</td>\n",
       "    </tr>\n",
       "    <tr>\n",
       "      <th>21</th>\n",
       "      <td>000000000wfb004 449023652 visa direct wius</td>\n",
       "      <td>visa</td>\n",
       "    </tr>\n",
       "    <tr>\n",
       "      <th>22</th>\n",
       "      <td>000000000wfb004 485042444 visa direct wius</td>\n",
       "      <td>visa</td>\n",
       "    </tr>\n",
       "    <tr>\n",
       "      <th>23</th>\n",
       "      <td>000000000wfb004 874030727 visa direct wius</td>\n",
       "      <td>visa</td>\n",
       "    </tr>\n",
       "    <tr>\n",
       "      <th>24</th>\n",
       "      <td>000000000wfb011 noneclaim disbursement visa di...</td>\n",
       "      <td>visa</td>\n",
       "    </tr>\n",
       "    <tr>\n",
       "      <th>25</th>\n",
       "      <td>0000pfs corp</td>\n",
       "      <td>pfs</td>\n",
       "    </tr>\n",
       "    <tr>\n",
       "      <th>26</th>\n",
       "      <td>0000security finance</td>\n",
       "      <td>security finance</td>\n",
       "    </tr>\n",
       "    <tr>\n",
       "      <th>27</th>\n",
       "      <td>0000security finance 800 sc</td>\n",
       "      <td>security finance</td>\n",
       "    </tr>\n",
       "    <tr>\n",
       "      <th>28</th>\n",
       "      <td>0000security finance 800 sc usa</td>\n",
       "      <td>security finance</td>\n",
       "    </tr>\n",
       "    <tr>\n",
       "      <th>29</th>\n",
       "      <td>0001 forever 21 sarasota flus</td>\n",
       "      <td>forever 21</td>\n",
       "    </tr>\n",
       "    <tr>\n",
       "      <th>30</th>\n",
       "      <td>0002 kokila two</td>\n",
       "      <td>kokila two</td>\n",
       "    </tr>\n",
       "    <tr>\n",
       "      <th>31</th>\n",
       "      <td>0003 rudra group</td>\n",
       "      <td>rudra group</td>\n",
       "    </tr>\n",
       "    <tr>\n",
       "      <th>32</th>\n",
       "      <td>0003 wal sams</td>\n",
       "      <td>sam's club</td>\n",
       "    </tr>\n",
       "    <tr>\n",
       "      <th>33</th>\n",
       "      <td>0007 amc chesterfield chesterfield mo usa</td>\n",
       "      <td>amc</td>\n",
       "    </tr>\n",
       "    <tr>\n",
       "      <th>34</th>\n",
       "      <td>0009 old chicago thornton co</td>\n",
       "      <td>old chicago</td>\n",
       "    </tr>\n",
       "    <tr>\n",
       "      <th>35</th>\n",
       "      <td>000security finance</td>\n",
       "      <td>security finance</td>\n",
       "    </tr>\n",
       "    <tr>\n",
       "      <th>36</th>\n",
       "      <td>000security finance 800 sc</td>\n",
       "      <td>security finance</td>\n",
       "    </tr>\n",
       "    <tr>\n",
       "      <th>37</th>\n",
       "      <td>000security finance 800 sc usa</td>\n",
       "      <td>security finance</td>\n",
       "    </tr>\n",
       "    <tr>\n",
       "      <th>38</th>\n",
       "      <td>000security finance h</td>\n",
       "      <td>security finance</td>\n",
       "    </tr>\n",
       "    <tr>\n",
       "      <th>39</th>\n",
       "      <td>001 braums store</td>\n",
       "      <td>braums</td>\n",
       "    </tr>\n",
       "    <tr>\n",
       "      <th>40</th>\n",
       "      <td>001 debtorcc inc</td>\n",
       "      <td>debtorcc</td>\n",
       "    </tr>\n",
       "    <tr>\n",
       "      <th>41</th>\n",
       "      <td>001 debtorcc inc 2012289040 nj usa</td>\n",
       "      <td>debtorcc</td>\n",
       "    </tr>\n",
       "    <tr>\n",
       "      <th>42</th>\n",
       "      <td>001 debtoredu llc</td>\n",
       "      <td>debtoredu</td>\n",
       "    </tr>\n",
       "    <tr>\n",
       "      <th>43</th>\n",
       "      <td>001 fbv studio movie griplano tx usa</td>\n",
       "      <td>studio movie grill</td>\n",
       "    </tr>\n",
       "    <tr>\n",
       "      <th>44</th>\n",
       "      <td>0010 10 fitness</td>\n",
       "      <td>10 fitness</td>\n",
       "    </tr>\n",
       "    <tr>\n",
       "      <th>45</th>\n",
       "      <td>0015 forever</td>\n",
       "      <td>forever 21</td>\n",
       "    </tr>\n",
       "    <tr>\n",
       "      <th>46</th>\n",
       "      <td>0018 first watch restaurtampa fl usa</td>\n",
       "      <td>first watch</td>\n",
       "    </tr>\n",
       "    <tr>\n",
       "      <th>47</th>\n",
       "      <td>00183t25 walgreens store 4210 carrdorado pr</td>\n",
       "      <td>walgreens</td>\n",
       "    </tr>\n",
       "    <tr>\n",
       "      <th>48</th>\n",
       "      <td>002 braums store</td>\n",
       "      <td>braums</td>\n",
       "    </tr>\n",
       "    <tr>\n",
       "      <th>49</th>\n",
       "      <td>0020 autoplus</td>\n",
       "      <td>autoplus</td>\n",
       "    </tr>\n",
       "  </tbody>\n",
       "</table>\n",
       "</div>"
      ],
      "text/plain": [
       "                                        merchant_name              cleanName2\n",
       "0                                0 04 amc creve coeur                     amc\n",
       "1                                0 05 amc security sq                     amc\n",
       "2                                         0 1 forever              forever 21\n",
       "3                                         0 2 forever              forever 21\n",
       "4                                0 3 amc grand island                     amc\n",
       "5                                         0 3 forever              forever 21\n",
       "6                              0 58 amc bar arlington                     amc\n",
       "7                                         0 6 forever              forever 21\n",
       "8                                   0 9 amc northpark                     amc\n",
       "9                                         0 9 forever              forever 21\n",
       "10                             00 antojitos mexicanos  100 antojitos mexicano\n",
       "11                                       0000 forever              forever 21\n",
       "12  000000000alz001 allianz global assista visa di...                 allianz\n",
       "13   000000000mln001 instacash funds visa direct wius                    visa\n",
       "14         000000000wfb004 111052543 visa direct wius                    visa\n",
       "15        000000000wfb004 1556029042 visa direct wius                    visa\n",
       "16        000000000wfb004 1625003609 visa direct wius                    visa\n",
       "17        000000000wfb004 1631002032 visa direct wius                    visa\n",
       "18        000000000wfb004 1726031044 visa direct wius                    visa\n",
       "19        000000000wfb004 1926016328 visa direct wius                    visa\n",
       "20        000000000wfb004 2311001742 visa direct wius                    visa\n",
       "21         000000000wfb004 449023652 visa direct wius                    visa\n",
       "22         000000000wfb004 485042444 visa direct wius                    visa\n",
       "23         000000000wfb004 874030727 visa direct wius                    visa\n",
       "24  000000000wfb011 noneclaim disbursement visa di...                    visa\n",
       "25                                       0000pfs corp                     pfs\n",
       "26                               0000security finance        security finance\n",
       "27                        0000security finance 800 sc        security finance\n",
       "28                    0000security finance 800 sc usa        security finance\n",
       "29                      0001 forever 21 sarasota flus              forever 21\n",
       "30                                    0002 kokila two              kokila two\n",
       "31                                   0003 rudra group             rudra group\n",
       "32                                      0003 wal sams              sam's club\n",
       "33          0007 amc chesterfield chesterfield mo usa                     amc\n",
       "34                       0009 old chicago thornton co             old chicago\n",
       "35                                000security finance        security finance\n",
       "36                         000security finance 800 sc        security finance\n",
       "37                     000security finance 800 sc usa        security finance\n",
       "38                              000security finance h        security finance\n",
       "39                                   001 braums store                  braums\n",
       "40                                   001 debtorcc inc                debtorcc\n",
       "41                 001 debtorcc inc 2012289040 nj usa                debtorcc\n",
       "42                                  001 debtoredu llc               debtoredu\n",
       "43               001 fbv studio movie griplano tx usa      studio movie grill\n",
       "44                                    0010 10 fitness              10 fitness\n",
       "45                                       0015 forever              forever 21\n",
       "46               0018 first watch restaurtampa fl usa             first watch\n",
       "47        00183t25 walgreens store 4210 carrdorado pr               walgreens\n",
       "48                                   002 braums store                  braums\n",
       "49                                      0020 autoplus                autoplus"
      ]
     },
     "execution_count": 2,
     "metadata": {},
     "output_type": "execute_result"
    }
   ],
   "source": [
    "tempdata = pd.read_csv('data/cleanedmerchant_training.csv') ## read the file into to a pandas dataframe\n",
    "data = tempdata[['merchant_name', 'cleanName2']]\n",
    "validName = data[data['cleanName2'].notnull()]\n",
    "validName.reset_index(inplace=True, drop = True)\n",
    "validName.head(50)"
   ]
  },
  {
   "cell_type": "code",
   "execution_count": 3,
   "metadata": {},
   "outputs": [],
   "source": [
    "from nltk import word_tokenize"
   ]
  },
  {
   "cell_type": "code",
   "execution_count": 20,
   "metadata": {},
   "outputs": [
    {
     "data": {
      "image/png": "[encoded data removed]",
      "text/plain": [
       "<Figure size 432x288 with 1 Axes>"
      ]
     },
     "metadata": {
      "needs_background": "light"
     },
     "output_type": "display_data"
    }
   ],
   "source": [
    "import matplotlib.pyplot as plt\n",
    "import numpy as np\n",
    "mu, sigma = 100, 10 # mean and standard deviation\n",
    "s = np.random.normal(mu, sigma, 1000)\n",
    "s_2 = np.random.uniform(70, 130, 1000)\n",
    "\n",
    "count, bins, ignored = plt.hist(s, 30, density=False, color = 'r')\n",
    "# plt.plot(bins, 1/(sigma * np.sqrt(2 * np.pi)) *\n",
    "#                np.exp( - (bins - mu)**2 / (2 * sigma**2) )\n",
    "#          )\n",
    "plt.show()"
   ]
  },
  {
   "cell_type": "code",
   "execution_count": 21,
   "metadata": {},
   "outputs": [
    {
     "data": {
      "image/png": "[encoded data removed]",
      "text/plain": [
       "<Figure size 432x288 with 1 Axes>"
      ]
     },
     "metadata": {
      "needs_background": "light"
     },
     "output_type": "display_data"
    }
   ],
   "source": [
    "s_2 = np.random.uniform(70, 130, 1000)\n",
    "count, bins, ignored = plt.hist(s_2, 30, density=False, color = 'r')"
   ]
  },
  {
   "cell_type": "code",
   "execution_count": 4,
   "metadata": {},
   "outputs": [
    {
     "name": "stdout",
     "output_type": "stream",
     "text": [
      "['0', '1', 'forever']\n"
     ]
    }
   ],
   "source": [
    "# raw_docs = [\"Here are some very simple basic sentences.\",\n",
    "# \"They won't be very interesting, I'm afraid.\",\n",
    "# \"The point of these examples is to _learn how basic text cleaning works_ on *very simple* data.\"]\n",
    "raw_docs = validName['merchant_name'].to_list()\n",
    "tokenized_docs = [word_tokenize(doc) for doc in raw_docs]\n",
    "print(tokenized_docs[2])"
   ]
  },
  {
   "cell_type": "code",
   "execution_count": 5,
   "metadata": {},
   "outputs": [
    {
     "name": "stdout",
     "output_type": "stream",
     "text": [
      "['0', '1', 'forever']\n"
     ]
    }
   ],
   "source": [
    "import re\n",
    "import string\n",
    "regex = re.compile('[%s]' % re.escape(string.punctuation)) #see documentation here: http://docs.python.org/2/library/string.html\n",
    "\n",
    "tokenized_docs_no_punctuation = []\n",
    "\n",
    "for review in tokenized_docs:\n",
    "    new_review = []\n",
    "    for token in review:\n",
    "        new_token = regex.sub(u'', token)\n",
    "        if not new_token == u'':\n",
    "            new_review.append(new_token)\n",
    "    \n",
    "    tokenized_docs_no_punctuation.append(new_review)\n",
    "    \n",
    "print(tokenized_docs_no_punctuation[2])"
   ]
  },
  {
   "cell_type": "code",
   "execution_count": 6,
   "metadata": {},
   "outputs": [
    {
     "name": "stdout",
     "output_type": "stream",
     "text": [
      "['0', '1', 'forever']\n"
     ]
    }
   ],
   "source": [
    "from nltk.corpus import stopwords\n",
    "\n",
    "tokenized_docs_no_stopwords = []\n",
    "\n",
    "for doc in tokenized_docs_no_punctuation:\n",
    "    new_term_vector = []\n",
    "    for word in doc:\n",
    "        if not word in stopwords.words('english'):\n",
    "            new_term_vector.append(word)\n",
    "    \n",
    "    tokenized_docs_no_stopwords.append(new_term_vector)\n",
    "\n",
    "print(tokenized_docs_no_stopwords[2])"
   ]
  },
  {
   "cell_type": "code",
   "execution_count": 7,
   "metadata": {},
   "outputs": [
    {
     "data": {
      "text/plain": [
       "True"
      ]
     },
     "execution_count": 7,
     "metadata": {},
     "output_type": "execute_result"
    }
   ],
   "source": [
    "cleaned_sentences = [' '.join(words) for words in tokenized_docs_no_stopwords]\n",
    "len(cleaned_sentences) == len(validName)"
   ]
  },
  {
   "cell_type": "code",
   "execution_count": 8,
   "metadata": {},
   "outputs": [
    {
     "name": "stderr",
     "output_type": "stream",
     "text": [
      "C:\\Users\\XuYang\\AppData\\Roaming\\Python\\Python37\\site-packages\\ipykernel_launcher.py:1: SettingWithCopyWarning: \n",
      "A value is trying to be set on a copy of a slice from a DataFrame.\n",
      "Try using .loc[row_indexer,col_indexer] = value instead\n",
      "\n",
      "See the caveats in the documentation: https://pandas.pydata.org/pandas-docs/stable/user_guide/indexing.html#returning-a-view-versus-a-copy\n",
      "  \"\"\"Entry point for launching an IPython kernel.\n"
     ]
    }
   ],
   "source": [
    "validName['merchant_name'] = cleaned_sentences"
   ]
  },
  {
   "cell_type": "code",
   "execution_count": 9,
   "metadata": {},
   "outputs": [],
   "source": [
    "def shuffle_dataset(dataset):\n",
    "    \"\"\"\n",
    "    Shuffle samples in dataset.\n",
    "\n",
    "    Args:\n",
    "        dataset: (list) list of tuples like: [(transaction, start_idx, end_idx), ..... , ]\n",
    "\n",
    "    Returns:\n",
    "        dataset: (list) list of tuples like: [,....., (transaction, start_idx, end_idx), ..... , ]\n",
    "\n",
    "    \"\"\"\n",
    "\n",
    "    shuffled_indices = list(range(len(dataset)))\n",
    "    random.shuffle(shuffled_indices)\n",
    "    dataset = [dataset[index] for index in shuffled_indices]\n",
    "\n",
    "    return dataset\n",
    "def get_merchant_indices_in_sentence(sentence, merchant):\n",
    "    \"\"\"\n",
    "    Given transaction string and merchant string, returns start end end indices of merchant in transaction string.\n",
    "\n",
    "    Args:\n",
    "        sentence: (string) transaction string. (example: )\n",
    "        merchant: (string) merchant name. (example: )\n",
    "\n",
    "    Returns:\n",
    "        sentence: (string) converted to upper strings\n",
    "        start: (int) merchant string start index\n",
    "        end: (int) merchant string end index\n",
    "\n",
    "    Examples:\n",
    "        sentences, start, end = get_sentence_indices(\"Target 00014423 WATERTOWN MA\",\"target\")\n",
    "\n",
    "        sentences: \"TARGET 00014423 WATERTOWN MA\"\n",
    "        start: 0\n",
    "        end: 6\n",
    "    \"\"\"\n",
    "\n",
    "    sentence = sentence.upper()\n",
    "    merchant = merchant.upper()\n",
    "\n",
    "    start = -1\n",
    "    end = -1\n",
    "\n",
    "    idx = sentence.find(merchant)\n",
    "    if idx != -1:\n",
    "        start = idx\n",
    "        end = start + len(merchant)\n",
    "\n",
    "    return sentence, start, end"
   ]
  },
  {
   "cell_type": "code",
   "execution_count": 10,
   "metadata": {},
   "outputs": [
    {
     "data": {
      "text/html": [
       "<div>\n",
       "<style scoped>\n",
       "    .dataframe tbody tr th:only-of-type {\n",
       "        vertical-align: middle;\n",
       "    }\n",
       "\n",
       "    .dataframe tbody tr th {\n",
       "        vertical-align: top;\n",
       "    }\n",
       "\n",
       "    .dataframe thead th {\n",
       "        text-align: right;\n",
       "    }\n",
       "</style>\n",
       "<table border=\"1\" class=\"dataframe\">\n",
       "  <thead>\n",
       "    <tr style=\"text-align: right;\">\n",
       "      <th></th>\n",
       "      <th>merchant_name</th>\n",
       "      <th>cleanName2</th>\n",
       "    </tr>\n",
       "  </thead>\n",
       "  <tbody>\n",
       "    <tr>\n",
       "      <th>77564</th>\n",
       "      <td>amazon prime vd2we2hw</td>\n",
       "      <td>amazon</td>\n",
       "    </tr>\n",
       "    <tr>\n",
       "      <th>276264</th>\n",
       "      <td>doordash crepevine</td>\n",
       "      <td>doordash</td>\n",
       "    </tr>\n",
       "    <tr>\n",
       "      <th>214729</th>\n",
       "      <td>caseys ge bestor</td>\n",
       "      <td>casey's general stores</td>\n",
       "    </tr>\n",
       "    <tr>\n",
       "      <th>420672</th>\n",
       "      <td>senor tequila mt pleasa</td>\n",
       "      <td>senor tequila</td>\n",
       "    </tr>\n",
       "    <tr>\n",
       "      <th>369524</th>\n",
       "      <td>paypal lyft ride fri 8pm</td>\n",
       "      <td>lyft</td>\n",
       "    </tr>\n",
       "    <tr>\n",
       "      <th>84471</th>\n",
       "      <td>amazon vm6073yh</td>\n",
       "      <td>amazon</td>\n",
       "    </tr>\n",
       "    <tr>\n",
       "      <th>262394</th>\n",
       "      <td>dollar ge gastonia hig</td>\n",
       "      <td>dollar general</td>\n",
       "    </tr>\n",
       "    <tr>\n",
       "      <th>221435</th>\n",
       "      <td>cdsr walmart neigh market 6 dlberville ms</td>\n",
       "      <td>walmart</td>\n",
       "    </tr>\n",
       "    <tr>\n",
       "      <th>138461</th>\n",
       "      <td>amzn mktp us m73gq29h</td>\n",
       "      <td>amazon</td>\n",
       "    </tr>\n",
       "    <tr>\n",
       "      <th>431420</th>\n",
       "      <td>speedy mart easley scus</td>\n",
       "      <td>speedy mart</td>\n",
       "    </tr>\n",
       "  </tbody>\n",
       "</table>\n",
       "</div>"
      ],
      "text/plain": [
       "                                    merchant_name              cleanName2\n",
       "77564                       amazon prime vd2we2hw                  amazon\n",
       "276264                         doordash crepevine                doordash\n",
       "214729                           caseys ge bestor  casey's general stores\n",
       "420672                    senor tequila mt pleasa           senor tequila\n",
       "369524                   paypal lyft ride fri 8pm                    lyft\n",
       "84471                             amazon vm6073yh                  amazon\n",
       "262394                     dollar ge gastonia hig          dollar general\n",
       "221435  cdsr walmart neigh market 6 dlberville ms                 walmart\n",
       "138461                      amzn mktp us m73gq29h                  amazon\n",
       "431420                    speedy mart easley scus             speedy mart"
      ]
     },
     "execution_count": 10,
     "metadata": {},
     "output_type": "execute_result"
    }
   ],
   "source": [
    "validName.sample(10)"
   ]
  },
  {
   "cell_type": "code",
   "execution_count": 11,
   "metadata": {},
   "outputs": [
    {
     "name": "stderr",
     "output_type": "stream",
     "text": [
      "C:\\Users\\XuYang\\AppData\\Roaming\\Python\\Python37\\site-packages\\pandas\\core\\indexing.py:1684: SettingWithCopyWarning: \n",
      "A value is trying to be set on a copy of a slice from a DataFrame.\n",
      "Try using .loc[row_indexer,col_indexer] = value instead\n",
      "\n",
      "See the caveats in the documentation: https://pandas.pydata.org/pandas-docs/stable/user_guide/indexing.html#returning-a-view-versus-a-copy\n",
      "  self.obj[key] = infer_fill_value(value)\n",
      "C:\\Users\\XuYang\\AppData\\Roaming\\Python\\Python37\\site-packages\\pandas\\core\\indexing.py:1817: SettingWithCopyWarning: \n",
      "A value is trying to be set on a copy of a slice from a DataFrame.\n",
      "Try using .loc[row_indexer,col_indexer] = value instead\n",
      "\n",
      "See the caveats in the documentation: https://pandas.pydata.org/pandas-docs/stable/user_guide/indexing.html#returning-a-view-versus-a-copy\n",
      "  self._setitem_single_column(loc, value, pi)\n"
     ]
    },
    {
     "name": "stdout",
     "output_type": "stream",
     "text": [
      "                               merchant_name       cleanName2  start_idx  \\\n",
      "62474                   amazon prime 8z52k3z           amazon        0.0   \n",
      "157227                 amzn mktp us my4424so           amazon       -1.0   \n",
      "233095       circle k 06712 7330 columbus ga         circle k        0.0   \n",
      "190702                      audible tr0cf3al          audible        0.0   \n",
      "269230                 dollar tr 2700 martha      dollar tree       -1.0   \n",
      "118774   amzn mktp us c43ln6it3 amzn bill wa           amazon       -1.0   \n",
      "60762                  amazon prime 4w1ni6kp           amazon        0.0   \n",
      "334336                    kwik trip pines mn        kwik trip        0.0   \n",
      "355248                 murry discount liquor  discount liquor        6.0   \n",
      "224951              chevron 0381126 portland          chevron        0.0   \n",
      "433596  starbucks store 06393 houston tx usa        starbucks        0.0   \n",
      "73131                  amazon prime my4r842k           amazon        0.0   \n",
      "361437            papa johns 859 624 2828 ky      papa john's       -1.0   \n",
      "186587                     arbys westerville            arbys        0.0   \n",
      "441457      taco bell 033870 thornton co usa        taco bell        0.0   \n",
      "229145             chick fil walnut creek ca      chick fil a       -1.0   \n",
      "286392                       exxon cc sd usa      exxon mobil       -1.0   \n",
      "190145                       audible ms7hd9q          audible        0.0   \n",
      "131034                 amzn mktp us ja6ur2vc           amazon       -1.0   \n",
      "57287                  amazon p49a91p63 amzn           amazon        0.0   \n",
      "101162                  amzn mktp us 278o70a           amazon       -1.0   \n",
      "315732              hlu hulu 1893504617625 u             hulu        4.0   \n",
      "136160                  amzn mktp us m705q0e           amazon       -1.0   \n",
      "23336        amazon 2l54b9md0 seattle wa usa           amazon        0.0   \n",
      "390036                  prime video bd22t65x           amazon       -1.0   \n",
      "173663                 amzn mktp us ue0hw3gg           amazon       -1.0   \n",
      "70820                  amazon prime ms1a25vr           amazon        0.0   \n",
      "91737                   amzn digital ms1rf7h           amazon       -1.0   \n",
      "317615               hlu hulu 643186590899 u             hulu        4.0   \n",
      "67076                   amazon prime jt9xv4z           amazon        0.0   \n",
      "237227                 cke buffalo spot comp              cke        0.0   \n",
      "228135                    chevron yogi patel          chevron        0.0   \n",
      "91957                  amzn digital my3cz6pe           amazon       -1.0   \n",
      "369788               paypal maoguanghui ebay             ebay       19.0   \n",
      "42851                         amazon jw6uh1q           amazon        0.0   \n",
      "315531              hlu hulu 1816778578980 u             hulu        4.0   \n",
      "27953                  amazon 3a5f690w3 amzn           amazon        0.0   \n",
      "470955              wawa 8607 ashland va usa             wawa        0.0   \n",
      "15837               aldi 46097 joplin mo usa             aldi        0.0   \n",
      "449927                 tjmaxx fremont ca usa          tj maxx       -1.0   \n",
      "163921                 amzn mktp us om1yq0sb           amazon       -1.0   \n",
      "36408                   amazon digit g61ip7c           amazon        0.0   \n",
      "88252                      american deli atl    american deli        0.0   \n",
      "256592                dollar ge 2015 martint   dollar general       -1.0   \n",
      "100340                 amzn mktp us 273qv0tt           amazon       -1.0   \n",
      "103592                     amzn mktp us 368z           amazon       -1.0   \n",
      "231988                       cigarette depot  cigarette depot        0.0   \n",
      "290336            family dollar cleveland oh    family dollar        0.0   \n",
      "398983                  prime video ms75m0mr           amazon       -1.0   \n",
      "116722                  amzn mktp us aw75l9e           amazon       -1.0   \n",
      "\n",
      "        end_idx  \n",
      "62474       6.0  \n",
      "157227     -1.0  \n",
      "233095      8.0  \n",
      "190702      7.0  \n",
      "269230     -1.0  \n",
      "118774     -1.0  \n",
      "60762       6.0  \n",
      "334336      9.0  \n",
      "355248     21.0  \n",
      "224951      7.0  \n",
      "433596      9.0  \n",
      "73131       6.0  \n",
      "361437     -1.0  \n",
      "186587      5.0  \n",
      "441457      9.0  \n",
      "229145     -1.0  \n",
      "286392     -1.0  \n",
      "190145      7.0  \n",
      "131034     -1.0  \n",
      "57287       6.0  \n",
      "101162     -1.0  \n",
      "315732      8.0  \n",
      "136160     -1.0  \n",
      "23336       6.0  \n",
      "390036     -1.0  \n",
      "173663     -1.0  \n",
      "70820       6.0  \n",
      "91737      -1.0  \n",
      "317615      8.0  \n",
      "67076       6.0  \n",
      "237227      3.0  \n",
      "228135      7.0  \n",
      "91957      -1.0  \n",
      "369788     23.0  \n",
      "42851       6.0  \n",
      "315531      8.0  \n",
      "27953       6.0  \n",
      "470955      4.0  \n",
      "15837       4.0  \n",
      "449927     -1.0  \n",
      "163921     -1.0  \n",
      "36408       6.0  \n",
      "88252      13.0  \n",
      "256592     -1.0  \n",
      "100340     -1.0  \n",
      "103592     -1.0  \n",
      "231988     15.0  \n",
      "290336     13.0  \n",
      "398983     -1.0  \n",
      "116722     -1.0  \n"
     ]
    }
   ],
   "source": [
    "from nltk.tokenize import sent_tokenize, word_tokenize\n",
    "from nltk.corpus import stopwords\n",
    "\n",
    "for idx, row in validName.iterrows():\n",
    "    # print('Processing row: ', idx)\n",
    "    # print('row0: ', row[0])\n",
    "    # print('row1: ', row[1])\n",
    "    # print(row[0].find(row[1].split(' ')[0]))\n",
    "    # print(len(row[1]))\n",
    "    find_i = row[0].find(row[1].split(' ')[0])\n",
    "    if find_i + len(row[1]) > len(row[0]):   \n",
    "        row[0] = row[0][:find_i] + row[1]\n",
    "    \n",
    "    sentence, start, end = get_merchant_indices_in_sentence(row[0], row[1])\n",
    "    validName.loc[idx, 'start_idx'] = start\n",
    "    validName.loc[idx, 'end_idx'] = end\n",
    "\n",
    "print(validName.sample(50))\n",
    "#validName.to_csv('data/dataset.csv')"
   ]
  },
  {
   "cell_type": "code",
   "execution_count": 12,
   "metadata": {},
   "outputs": [],
   "source": [
    "validName.to_csv('data/dataset.csv')"
   ]
  },
  {
   "cell_type": "code",
   "execution_count": 13,
   "metadata": {},
   "outputs": [
    {
     "data": {
      "text/plain": [
       "Index(['Unnamed: 0', 'merchant_name', 'cleanName2', 'start_idx', 'end_idx'], dtype='object')"
      ]
     },
     "execution_count": 13,
     "metadata": {},
     "output_type": "execute_result"
    }
   ],
   "source": [
    "cleandataset = pd.read_csv('data/dataset.csv')\n",
    "cleandataset.columns"
   ]
  },
  {
   "cell_type": "code",
   "execution_count": 14,
   "metadata": {},
   "outputs": [
    {
     "data": {
      "text/plain": [
       "Index(['merchant_name', 'cleanName2', 'start_idx', 'end_idx'], dtype='object')"
      ]
     },
     "execution_count": 14,
     "metadata": {},
     "output_type": "execute_result"
    }
   ],
   "source": [
    "cleandataset = cleandataset.drop(columns = 'Unnamed: 0')\n",
    "cleandataset.columns"
   ]
  },
  {
   "cell_type": "code",
   "execution_count": 15,
   "metadata": {},
   "outputs": [
    {
     "data": {
      "text/plain": [
       "RangeIndex(start=0, stop=483250, step=1)"
      ]
     },
     "execution_count": 15,
     "metadata": {},
     "output_type": "execute_result"
    }
   ],
   "source": [
    "cleandataset.index"
   ]
  },
  {
   "cell_type": "code",
   "execution_count": 16,
   "metadata": {},
   "outputs": [
    {
     "data": {
      "text/plain": [
       "287687"
      ]
     },
     "execution_count": 16,
     "metadata": {},
     "output_type": "execute_result"
    }
   ],
   "source": [
    "cleandataset = cleandataset[cleandataset['start_idx']!=-1]\n",
    "len(cleandataset)"
   ]
  },
  {
   "cell_type": "code",
   "execution_count": 17,
   "metadata": {},
   "outputs": [
    {
     "data": {
      "text/html": [
       "<div>\n",
       "<style scoped>\n",
       "    .dataframe tbody tr th:only-of-type {\n",
       "        vertical-align: middle;\n",
       "    }\n",
       "\n",
       "    .dataframe tbody tr th {\n",
       "        vertical-align: top;\n",
       "    }\n",
       "\n",
       "    .dataframe thead th {\n",
       "        text-align: right;\n",
       "    }\n",
       "</style>\n",
       "<table border=\"1\" class=\"dataframe\">\n",
       "  <thead>\n",
       "    <tr style=\"text-align: right;\">\n",
       "      <th></th>\n",
       "      <th>merchant_name</th>\n",
       "      <th>cleanName2</th>\n",
       "      <th>start_idx</th>\n",
       "      <th>end_idx</th>\n",
       "    </tr>\n",
       "  </thead>\n",
       "  <tbody>\n",
       "    <tr>\n",
       "      <th>0</th>\n",
       "      <td>0 04 amc creve coeur</td>\n",
       "      <td>amc</td>\n",
       "      <td>5.0</td>\n",
       "      <td>8.0</td>\n",
       "    </tr>\n",
       "    <tr>\n",
       "      <th>1</th>\n",
       "      <td>0 05 amc security sq</td>\n",
       "      <td>amc</td>\n",
       "      <td>5.0</td>\n",
       "      <td>8.0</td>\n",
       "    </tr>\n",
       "    <tr>\n",
       "      <th>2</th>\n",
       "      <td>0 1 forever 21</td>\n",
       "      <td>forever 21</td>\n",
       "      <td>4.0</td>\n",
       "      <td>14.0</td>\n",
       "    </tr>\n",
       "    <tr>\n",
       "      <th>3</th>\n",
       "      <td>0 2 forever 21</td>\n",
       "      <td>forever 21</td>\n",
       "      <td>4.0</td>\n",
       "      <td>14.0</td>\n",
       "    </tr>\n",
       "    <tr>\n",
       "      <th>4</th>\n",
       "      <td>0 3 amc grand island</td>\n",
       "      <td>amc</td>\n",
       "      <td>4.0</td>\n",
       "      <td>7.0</td>\n",
       "    </tr>\n",
       "    <tr>\n",
       "      <th>...</th>\n",
       "      <td>...</td>\n",
       "      <td>...</td>\n",
       "      <td>...</td>\n",
       "      <td>...</td>\n",
       "    </tr>\n",
       "    <tr>\n",
       "      <th>287682</th>\n",
       "      <td>zw100082 bp w100082 jackson tn</td>\n",
       "      <td>bp</td>\n",
       "      <td>9.0</td>\n",
       "      <td>11.0</td>\n",
       "    </tr>\n",
       "    <tr>\n",
       "      <th>287683</th>\n",
       "      <td>zxbuzamxgxnwnst peloton membership new york ci...</td>\n",
       "      <td>peloton</td>\n",
       "      <td>16.0</td>\n",
       "      <td>23.0</td>\n",
       "    </tr>\n",
       "    <tr>\n",
       "      <th>287684</th>\n",
       "      <td>zyia active llc</td>\n",
       "      <td>zyia active</td>\n",
       "      <td>0.0</td>\n",
       "      <td>11.0</td>\n",
       "    </tr>\n",
       "    <tr>\n",
       "      <th>287685</th>\n",
       "      <td>zyia active llc 4353835263 ut usa</td>\n",
       "      <td>zyia active</td>\n",
       "      <td>0.0</td>\n",
       "      <td>11.0</td>\n",
       "    </tr>\n",
       "    <tr>\n",
       "      <th>287686</th>\n",
       "      <td>z zounds</td>\n",
       "      <td>z zounds</td>\n",
       "      <td>0.0</td>\n",
       "      <td>8.0</td>\n",
       "    </tr>\n",
       "  </tbody>\n",
       "</table>\n",
       "<p>287687 rows × 4 columns</p>\n",
       "</div>"
      ],
      "text/plain": [
       "                                            merchant_name   cleanName2  \\\n",
       "0                                    0 04 amc creve coeur          amc   \n",
       "1                                    0 05 amc security sq          amc   \n",
       "2                                          0 1 forever 21   forever 21   \n",
       "3                                          0 2 forever 21   forever 21   \n",
       "4                                    0 3 amc grand island          amc   \n",
       "...                                                   ...          ...   \n",
       "287682                     zw100082 bp w100082 jackson tn           bp   \n",
       "287683  zxbuzamxgxnwnst peloton membership new york ci...      peloton   \n",
       "287684                                    zyia active llc  zyia active   \n",
       "287685                  zyia active llc 4353835263 ut usa  zyia active   \n",
       "287686                                           z zounds     z zounds   \n",
       "\n",
       "        start_idx  end_idx  \n",
       "0             5.0      8.0  \n",
       "1             5.0      8.0  \n",
       "2             4.0     14.0  \n",
       "3             4.0     14.0  \n",
       "4             4.0      7.0  \n",
       "...           ...      ...  \n",
       "287682        9.0     11.0  \n",
       "287683       16.0     23.0  \n",
       "287684        0.0     11.0  \n",
       "287685        0.0     11.0  \n",
       "287686        0.0      8.0  \n",
       "\n",
       "[287687 rows x 4 columns]"
      ]
     },
     "execution_count": 17,
     "metadata": {},
     "output_type": "execute_result"
    }
   ],
   "source": [
    "cleandataset.reset_index(drop=True)"
   ]
  },
  {
   "cell_type": "code",
   "execution_count": 18,
   "metadata": {},
   "outputs": [],
   "source": [
    "cleandataset.to_csv('data/dataset.csv')"
   ]
  },
  {
   "cell_type": "code",
   "execution_count": null,
   "metadata": {},
   "outputs": [],
   "source": [
    "def character_embedding(text, max_len=300, emb_dim=8):\n",
    "        \"\"\"\n",
    "        Embeds character string with the use of (emb_dim)-bit binary values of each character.\n",
    "\n",
    "        Args:\n",
    "            text: (string) text to embed\n",
    "            max_len: (int) maximum length of text that will be encoded. Padding will be done with zeros.\n",
    "            emb_dim:\n",
    "\n",
    "        Returns:\n",
    "            str_array: (ndarray) 2 dimensional numpy array containing embedded text of shape emb_dim*max_len\n",
    "\n",
    "        \"\"\"\n",
    "\n",
    "        # cut long text with maximum accepted length\n",
    "        if len(text) > max_len:\n",
    "            text = text[:max_len]\n",
    "\n",
    "        str_array = np.zeros((emb_dim, max(len(text), max_len)), dtype=np.int32).tolist()\n",
    "\n",
    "        for index, char in enumerate(text):\n",
    "            str_binary = format(ord(char), 'b').zfill(emb_dim)[::-1]\n",
    "            str_binary = str_binary[:emb_dim]\n",
    "            for str_index, str_char in enumerate(str_binary, 0):\n",
    "                str_array[str_index][index] = int(str_char)\n",
    "       \n",
    "        padding_str_binary = '0' * emb_dim\n",
    "        \n",
    "        for index in range(len(text), max_len):\n",
    "            for str_index, str_char in enumerate(padding_str_binary, 0):\n",
    "                str_array[str_index][index] = int(str_char)\n",
    "\n",
    "        return str_array"
   ]
  },
  {
   "cell_type": "code",
   "execution_count": null,
   "metadata": {},
   "outputs": [],
   "source": [
    "import pprint\n",
    "pp = pprint.PrettyPrinter(indent=4)\n",
    "emb = character_embedding('Martin')\n",
    "emb"
   ]
  },
  {
   "cell_type": "code",
   "execution_count": null,
   "metadata": {},
   "outputs": [],
   "source": [
    "df = cleandataset.sample(frac=1).reset_index(drop=True)"
   ]
  },
  {
   "cell_type": "code",
   "execution_count": null,
   "metadata": {},
   "outputs": [],
   "source": [
    "train_dataset = df[:int(0.7 * len(df))]\n",
    "val_dataset = df[int(0.7 * len(df)): int(0.85 * len(df))]\n",
    "test_dataset = df[int(0.85 * len(df)):]"
   ]
  },
  {
   "cell_type": "code",
   "execution_count": null,
   "metadata": {},
   "outputs": [],
   "source": [
    "train_dataset.head(50)"
   ]
  },
  {
   "cell_type": "markdown",
   "metadata": {},
   "source": [
    "#### Rule matching"
   ]
  },
  {
   "cell_type": "code",
   "execution_count": null,
   "metadata": {},
   "outputs": [],
   "source": [
    "import spacy\n",
    "from spacy.matcher import Matcher\n",
    "\n",
    "nlp = spacy.load(\"en_core_web_sm\")\n",
    "matcher = Matcher(nlp.vocab)\n",
    "# Add match ID \"HelloWorld\" with no callback and one pattern\n",
    "pattern = [{\"LOWER\": \"hello\"}, {\"IS_PUNCT\": True}, {\"LOWER\": \"world\"}]\n",
    "matcher.add(\"sID\", [pattern])\n",
    "\n",
    "doc = nlp(\"Hello, world! Hello world!\")\n",
    "matches = matcher(doc)\n",
    "\n",
    "for match_id, start, end in matches:\n",
    "    string_id = nlp.vocab.strings[match_id]  # Get string representation\n",
    "    span = doc[start:end]  # The matched span\n",
    "    print(match_id, string_id, start, end, span.text)"
   ]
  },
  {
   "cell_type": "code",
   "execution_count": null,
   "metadata": {},
   "outputs": [],
   "source": []
  },
  {
   "cell_type": "code",
   "execution_count": null,
   "metadata": {},
   "outputs": [],
   "source": [
    "import spacy\n",
    "from fuzzywuzzy import fuzz\n",
    "from fuzzywuzzy import process\n",
    "import re\n",
    "\n",
    "nlp = spacy.load(\"en_core_web_sm\")\n",
    "doc = nlp(\"dollar general w main a\")\n",
    "print(doc.ents)\n",
    "# for idx, row in sample_10.iterrows():\n",
    "#     # print('processing row: ', idx)\n",
    "#     # print(row[0])\n",
    "#     doc = nlp(row[0])\n",
    "#     all_entities = doc.ents\n",
    "#     print(all_entities)\n",
    "#     # print(all_entities)\n",
    "#     #extraction_temp = str(process.extractOne(row[1], all_entities)[0])\n",
    "#     #extraction =  re.sub(r\"inc|mktp|\\d+\", \"\", extraction_temp) \n",
    "#     #print('extraction result: ', extraction_temp)"
   ]
  },
  {
   "cell_type": "code",
   "execution_count": null,
   "metadata": {},
   "outputs": [],
   "source": []
  },
  {
   "cell_type": "code",
   "execution_count": null,
   "metadata": {},
   "outputs": [],
   "source": [
    "import pandas as pd\n",
    "import numpy as np\n",
    "cleanData = pd.read_csv('data/cleanedmerchant_training.csv')\n",
    "cleanData.columns"
   ]
  },
  {
   "cell_type": "code",
   "execution_count": null,
   "metadata": {},
   "outputs": [],
   "source": [
    "# stopwordFreeds[(stopwordFreeds['cleanName2'] != stopwordFreeds['CleanName3']) & (stopwordFreeds['CleanName3'] != 'chick fil')].sample(1000)"
   ]
  },
  {
   "cell_type": "code",
   "execution_count": null,
   "metadata": {},
   "outputs": [],
   "source": [
    "cleanData.head()"
   ]
  },
  {
   "cell_type": "code",
   "execution_count": null,
   "metadata": {},
   "outputs": [],
   "source": []
  }
 ],
 "metadata": {
  "interpreter": {
   "hash": "5109d816b82be14675a6b11f8e0f0d2e80f029176ed3710d54e125caa8520dfd"
  },
  "kernelspec": {
   "display_name": "Python 3.7.9 64-bit",
   "language": "python",
   "name": "python3"
  },
  "language_info": {
   "codemirror_mode": {
    "name": "ipython",
    "version": 3
   },
   "file_extension": ".py",
   "mimetype": "text/x-python",
   "name": "python",
   "nbconvert_exporter": "python",
   "pygments_lexer": "ipython3",
   "version": "3.7.9"
  },
  "orig_nbformat": 4
 },
 "nbformat": 4,
 "nbformat_minor": 2
}
